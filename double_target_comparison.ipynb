{
 "cells": [
  {
   "cell_type": "code",
   "execution_count": 38,
   "metadata": {},
   "outputs": [],
   "source": [
    "import pandas as pd\n",
    "import numpy as np\n",
    "from matplotlib import pyplot as plt\n",
    "%matplotlib inline\n",
    "from xgboost import XGBRegressor\n",
    "import sys\n",
    "sys.path.append('/project/xgb-research/tiny-xgboost/')\n",
    "import tiny_xgboost as txgb\n",
    "from sklearn.model_selection import train_test_split\n",
    "from tqdm import tqdm_notebook as tqdm"
   ]
  },
  {
   "cell_type": "code",
   "execution_count": 31,
   "metadata": {},
   "outputs": [],
   "source": [
    "def r_2(preds, values):\n",
    "    \n",
    "    return 1 - np.mean(np.power(preds - values, 2))/np.var(values)"
   ]
  },
  {
   "cell_type": "code",
   "execution_count": 36,
   "metadata": {},
   "outputs": [],
   "source": [
    "def generate_data(N):\n",
    "\n",
    "    X = np.random.uniform(0,1, N)\n",
    "\n",
    "    y_1 = 3*X + np.random.normal(0, 0.5, N)\n",
    "    y_2 = -4*X + np.random.normal(0, 0.65, N)\n",
    "\n",
    "    y = np.array(list(zip(y_1, y_2)))\n",
    "\n",
    "    X = X.reshape(-1,1)\n",
    "\n",
    "    X_train, X_test, y_train, y_test = train_test_split(X, y, test_size=0.3)\n",
    "    X_train, X_eval, y_train, y_eval = train_test_split(X_train, y_train, test_size=0.2)\n",
    "    \n",
    "    return X_train, X_eval, X_test, y_train, y_eval, y_test"
   ]
  },
  {
   "cell_type": "code",
   "execution_count": 26,
   "metadata": {},
   "outputs": [
    {
     "name": "stdout",
     "output_type": "stream",
     "text": [
      "[0]\tvalidation_0-rmse:2.02316\n",
      "[1]\tvalidation_0-rmse:1.83994\n",
      "[2]\tvalidation_0-rmse:1.67615\n",
      "[3]\tvalidation_0-rmse:1.53064\n",
      "[4]\tvalidation_0-rmse:1.40029\n",
      "[5]\tvalidation_0-rmse:1.28582\n",
      "[6]\tvalidation_0-rmse:1.18513\n",
      "[7]\tvalidation_0-rmse:1.09618\n",
      "[8]\tvalidation_0-rmse:1.01836\n",
      "[9]\tvalidation_0-rmse:0.95040\n",
      "[10]\tvalidation_0-rmse:0.89123\n",
      "[11]\tvalidation_0-rmse:0.84084\n",
      "[12]\tvalidation_0-rmse:0.79764\n",
      "[13]\tvalidation_0-rmse:0.76058\n",
      "[14]\tvalidation_0-rmse:0.72905\n",
      "[15]\tvalidation_0-rmse:0.70271\n",
      "[16]\tvalidation_0-rmse:0.68053\n",
      "[17]\tvalidation_0-rmse:0.66224\n",
      "[18]\tvalidation_0-rmse:0.64681\n",
      "[19]\tvalidation_0-rmse:0.63409\n",
      "[20]\tvalidation_0-rmse:0.62368\n",
      "[21]\tvalidation_0-rmse:0.61500\n",
      "[22]\tvalidation_0-rmse:0.60799\n",
      "[23]\tvalidation_0-rmse:0.60238\n",
      "[24]\tvalidation_0-rmse:0.59766\n",
      "[25]\tvalidation_0-rmse:0.59378\n",
      "[26]\tvalidation_0-rmse:0.59070\n",
      "[27]\tvalidation_0-rmse:0.58818\n",
      "[28]\tvalidation_0-rmse:0.58614\n",
      "[29]\tvalidation_0-rmse:0.58460\n",
      "[30]\tvalidation_0-rmse:0.58319\n",
      "[31]\tvalidation_0-rmse:0.58213\n",
      "[32]\tvalidation_0-rmse:0.58135\n",
      "[33]\tvalidation_0-rmse:0.58076\n",
      "[34]\tvalidation_0-rmse:0.58022\n",
      "[35]\tvalidation_0-rmse:0.57988\n",
      "[36]\tvalidation_0-rmse:0.57959\n",
      "[37]\tvalidation_0-rmse:0.57932\n",
      "[38]\tvalidation_0-rmse:0.57927\n",
      "[39]\tvalidation_0-rmse:0.57906\n",
      "[40]\tvalidation_0-rmse:0.57895\n",
      "[41]\tvalidation_0-rmse:0.57883\n",
      "[42]\tvalidation_0-rmse:0.57877\n",
      "[43]\tvalidation_0-rmse:0.57883\n",
      "[44]\tvalidation_0-rmse:0.57873\n",
      "[45]\tvalidation_0-rmse:0.57880\n",
      "[46]\tvalidation_0-rmse:0.57878\n",
      "[47]\tvalidation_0-rmse:0.57874\n",
      "[48]\tvalidation_0-rmse:0.57873\n",
      "[49]\tvalidation_0-rmse:0.57872\n",
      "[50]\tvalidation_0-rmse:0.57875\n",
      "[51]\tvalidation_0-rmse:0.57871\n",
      "[52]\tvalidation_0-rmse:0.57866\n",
      "[53]\tvalidation_0-rmse:0.57868\n",
      "[54]\tvalidation_0-rmse:0.57865\n",
      "[55]\tvalidation_0-rmse:0.57866\n",
      "[56]\tvalidation_0-rmse:0.57876\n",
      "[57]\tvalidation_0-rmse:0.57877\n",
      "[58]\tvalidation_0-rmse:0.57881\n",
      "[59]\tvalidation_0-rmse:0.57882\n",
      "[60]\tvalidation_0-rmse:0.57889\n",
      "[61]\tvalidation_0-rmse:0.57888\n",
      "[62]\tvalidation_0-rmse:0.57895\n",
      "[63]\tvalidation_0-rmse:0.57895\n"
     ]
    },
    {
     "data": {
      "text/plain": [
       "XGBRegressor(base_score=0.5, booster=None, callbacks=None,\n",
       "             colsample_bylevel=None, colsample_bynode=None,\n",
       "             colsample_bytree=None, early_stopping_rounds=10,\n",
       "             enable_categorical=False, eval_metric='rmse', feature_types=None,\n",
       "             gamma=None, gpu_id=None, grow_policy=None, importance_type=None,\n",
       "             interaction_constraints=None, learning_rate=0.1, max_bin=None,\n",
       "             max_cat_threshold=None, max_cat_to_onehot=None,\n",
       "             max_delta_step=None, max_depth=2, max_leaves=None,\n",
       "             min_child_weight=1, missing=nan, monotone_constraints=None,\n",
       "             n_estimators=20000, n_jobs=None, num_parallel_tree=None,\n",
       "             predictor=None, random_state=None, ...)"
      ]
     },
     "execution_count": 26,
     "metadata": {},
     "output_type": "execute_result"
    }
   ],
   "source": [
    "xgb_regressor = XGBRegressor(max_depth=2, learning_rate=0.1, n_estimators=20_000, early_stopping_rounds=10, \n",
    "                            objective='reg:squarederror', eval_metric='rmse', reg_lambda=1.0,\n",
    "                            min_child_weight=1, base_score=0.5)\n",
    "\n",
    "xgb_regressor.fit(X_train, y_train, eval_set=[(X_eval, y_eval)], verbose=True)"
   ]
  },
  {
   "cell_type": "code",
   "execution_count": 34,
   "metadata": {},
   "outputs": [
    {
     "name": "stdout",
     "output_type": "stream",
     "text": [
      "Task 1 R^2=0.74204\t Tasl 2 R^2='0.76241\n"
     ]
    }
   ],
   "source": [
    "og_preds = xgb_regressor.predict(X_test)\n",
    "\n",
    "r2_1 = r_2(og_preds[:, 0], y_test[:, 0])\n",
    "r2_2 = r_2(og_preds[:, 1], y_test[:, 1])\n",
    "print(\"Task 1 R^2=%.5f\\t Tasl 2 R^2='%.5f\"%(r2_1, r2_2))"
   ]
  },
  {
   "cell_type": "code",
   "execution_count": 27,
   "metadata": {},
   "outputs": [
    {
     "name": "stdout",
     "output_type": "stream",
     "text": [
      "[0]\ttrain-loss=2.02669, val-loss=2.04555\n",
      "[1]\ttrain-loss=1.84413, val-loss=1.86194\n",
      "[2]\ttrain-loss=1.68115, val-loss=1.69767\n",
      "[3]\ttrain-loss=1.53644, val-loss=1.55199\n",
      "[4]\ttrain-loss=1.40747, val-loss=1.42199\n",
      "[5]\ttrain-loss=1.29365, val-loss=1.30726\n",
      "[6]\ttrain-loss=1.19296, val-loss=1.20621\n",
      "[7]\ttrain-loss=1.10421, val-loss=1.11694\n",
      "[8]\ttrain-loss=1.02658, val-loss=1.03910\n",
      "[9]\ttrain-loss=0.95868, val-loss=0.97070\n",
      "[10]\ttrain-loss=0.89979, val-loss=0.91134\n",
      "[11]\ttrain-loss=0.84885, val-loss=0.86033\n",
      "[12]\ttrain-loss=0.80496, val-loss=0.81649\n",
      "[13]\ttrain-loss=0.76729, val-loss=0.77860\n",
      "[14]\ttrain-loss=0.73523, val-loss=0.74610\n",
      "[15]\ttrain-loss=0.70818, val-loss=0.71893\n",
      "[16]\ttrain-loss=0.68524, val-loss=0.69578\n",
      "[17]\ttrain-loss=0.66600, val-loss=0.67660\n",
      "[18]\ttrain-loss=0.64982, val-loss=0.66031\n",
      "[19]\ttrain-loss=0.63638, val-loss=0.64681\n",
      "[20]\ttrain-loss=0.62519, val-loss=0.63546\n",
      "[21]\ttrain-loss=0.61590, val-loss=0.62597\n",
      "[22]\ttrain-loss=0.60821, val-loss=0.61822\n",
      "[23]\ttrain-loss=0.60185, val-loss=0.61177\n",
      "[24]\ttrain-loss=0.59659, val-loss=0.60638\n",
      "[25]\ttrain-loss=0.59226, val-loss=0.60192\n",
      "[26]\ttrain-loss=0.58869, val-loss=0.59825\n",
      "[27]\ttrain-loss=0.58576, val-loss=0.59525\n",
      "[28]\ttrain-loss=0.58334, val-loss=0.59276\n",
      "[29]\ttrain-loss=0.58134, val-loss=0.59076\n",
      "[30]\ttrain-loss=0.57971, val-loss=0.58900\n",
      "[31]\ttrain-loss=0.57835, val-loss=0.58764\n",
      "[32]\ttrain-loss=0.57724, val-loss=0.58652\n",
      "[33]\ttrain-loss=0.57630, val-loss=0.58569\n",
      "[34]\ttrain-loss=0.57554, val-loss=0.58486\n",
      "[35]\ttrain-loss=0.57487, val-loss=0.58424\n",
      "[36]\ttrain-loss=0.57433, val-loss=0.58377\n",
      "[37]\ttrain-loss=0.57386, val-loss=0.58339\n",
      "[38]\ttrain-loss=0.57345, val-loss=0.58310\n",
      "[39]\ttrain-loss=0.57311, val-loss=0.58277\n",
      "[40]\ttrain-loss=0.57278, val-loss=0.58267\n",
      "[41]\ttrain-loss=0.57253, val-loss=0.58247\n",
      "[42]\ttrain-loss=0.57229, val-loss=0.58236\n",
      "[43]\ttrain-loss=0.57207, val-loss=0.58222\n",
      "[44]\ttrain-loss=0.57191, val-loss=0.58204\n",
      "[45]\ttrain-loss=0.57175, val-loss=0.58199\n",
      "[46]\ttrain-loss=0.57159, val-loss=0.58191\n",
      "[47]\ttrain-loss=0.57145, val-loss=0.58185\n",
      "[48]\ttrain-loss=0.57127, val-loss=0.58181\n",
      "[49]\ttrain-loss=0.57115, val-loss=0.58176\n",
      "[50]\ttrain-loss=0.57105, val-loss=0.58175\n",
      "[51]\ttrain-loss=0.57096, val-loss=0.58173\n",
      "[52]\ttrain-loss=0.57080, val-loss=0.58173\n",
      "[53]\ttrain-loss=0.57072, val-loss=0.58174\n",
      "[54]\ttrain-loss=0.57060, val-loss=0.58168\n",
      "[55]\ttrain-loss=0.57054, val-loss=0.58164\n",
      "[56]\ttrain-loss=0.57044, val-loss=0.58160\n",
      "[57]\ttrain-loss=0.57036, val-loss=0.58159\n",
      "[58]\ttrain-loss=0.57027, val-loss=0.58154\n",
      "[59]\ttrain-loss=0.57020, val-loss=0.58158\n",
      "[60]\ttrain-loss=0.57013, val-loss=0.58154\n",
      "[61]\ttrain-loss=0.57007, val-loss=0.58153\n",
      "[62]\ttrain-loss=0.56995, val-loss=0.58156\n",
      "[63]\ttrain-loss=0.56990, val-loss=0.58155\n",
      "[64]\ttrain-loss=0.56981, val-loss=0.58153\n",
      "[65]\ttrain-loss=0.56976, val-loss=0.58151\n",
      "[66]\ttrain-loss=0.56971, val-loss=0.58155\n",
      "[67]\ttrain-loss=0.56963, val-loss=0.58157\n",
      "[68]\ttrain-loss=0.56957, val-loss=0.58155\n",
      "[69]\ttrain-loss=0.56953, val-loss=0.58155\n",
      "[70]\ttrain-loss=0.56947, val-loss=0.58155\n",
      "[71]\ttrain-loss=0.56943, val-loss=0.58156\n",
      "[72]\ttrain-loss=0.56936, val-loss=0.58157\n",
      "[73]\ttrain-loss=0.56930, val-loss=0.58160\n",
      "[74]\ttrain-loss=0.56927, val-loss=0.58159\n",
      "[75]\ttrain-loss=0.56921, val-loss=0.58156\n"
     ]
    },
    {
     "data": {
      "text/plain": [
       "<tiny_xgboost.TinyXGBRegressor at 0x7fd559f8d1f0>"
      ]
     },
     "execution_count": 27,
     "metadata": {},
     "output_type": "execute_result"
    }
   ],
   "source": [
    "og_params = xgb_regressor.get_params()\n",
    "\n",
    "learner_params = {}\n",
    "\n",
    "for attribute in [\"objective\", \"max_depth\", \"n_estimators\", \"early_stopping_rounds\", \"learning_rate\", \n",
    "                 \"base_score\", \"reg_lambda\", \"min_child_weight\"]:\n",
    "    learner_params[attribute] = og_params[attribute]\n",
    "    \n",
    "\n",
    "txgb_regressor = txgb.TinyXGBRegressor(**learner_params)\n",
    "txgb_regressor.fit(X_train, y_train, eval_set=(X_test, y_test), verbose=True)"
   ]
  },
  {
   "cell_type": "code",
   "execution_count": 35,
   "metadata": {},
   "outputs": [
    {
     "name": "stdout",
     "output_type": "stream",
     "text": [
      "Task 1 R^2=0.74213\t Tasl 2 R^2='0.76259\n"
     ]
    }
   ],
   "source": [
    "txgb_preds = txgb_regressor.predict(X_test)\n",
    "\n",
    "r2_1 = r_2(txgb_preds[:, 0], y_test[:, 0])\n",
    "r2_2 = r_2(txgb_preds[:, 1], y_test[:, 1])\n",
    "print(\"Task 1 R^2=%.5f\\t Tasl 2 R^2='%.5f\"%(r2_1, r2_2))"
   ]
  },
  {
   "cell_type": "code",
   "execution_count": 53,
   "metadata": {},
   "outputs": [
    {
     "name": "stderr",
     "output_type": "stream",
     "text": [
      "/tmp/ipykernel_176/1693596680.py:10: TqdmDeprecationWarning: This function will be removed in tqdm==5.0.0\n",
      "Please use `tqdm.notebook.tqdm` instead of `tqdm.tqdm_notebook`\n",
      "  for i in tqdm(range(10)):\n"
     ]
    },
    {
     "data": {
      "application/vnd.jupyter.widget-view+json": {
       "model_id": "9afb6d34d1ef4639bbe44ce842241aa4",
       "version_major": 2,
       "version_minor": 0
      },
      "text/plain": [
       "  0%|          | 0/10 [00:00<?, ?it/s]"
      ]
     },
     "metadata": {},
     "output_type": "display_data"
    },
    {
     "data": {
      "application/vnd.jupyter.widget-view+json": {
       "model_id": "f69a00dde3c34d4782eddc043b6193d3",
       "version_major": 2,
       "version_minor": 0
      },
      "text/plain": [
       "  0%|          | 0/10 [00:00<?, ?it/s]"
      ]
     },
     "metadata": {},
     "output_type": "display_data"
    },
    {
     "data": {
      "application/vnd.jupyter.widget-view+json": {
       "model_id": "08189cf6c3384fdb91697c32b8c74206",
       "version_major": 2,
       "version_minor": 0
      },
      "text/plain": [
       "  0%|          | 0/10 [00:00<?, ?it/s]"
      ]
     },
     "metadata": {},
     "output_type": "display_data"
    },
    {
     "data": {
      "application/vnd.jupyter.widget-view+json": {
       "model_id": "527c9388b1a447ecaa5150b7c7cdaad9",
       "version_major": 2,
       "version_minor": 0
      },
      "text/plain": [
       "  0%|          | 0/10 [00:00<?, ?it/s]"
      ]
     },
     "metadata": {},
     "output_type": "display_data"
    },
    {
     "data": {
      "application/vnd.jupyter.widget-view+json": {
       "model_id": "b2d9b9d5b8db4179a867ac6b501dba49",
       "version_major": 2,
       "version_minor": 0
      },
      "text/plain": [
       "  0%|          | 0/10 [00:00<?, ?it/s]"
      ]
     },
     "metadata": {},
     "output_type": "display_data"
    },
    {
     "data": {
      "application/vnd.jupyter.widget-view+json": {
       "model_id": "10194a0a6f164fcb8cd45e1808e49c09",
       "version_major": 2,
       "version_minor": 0
      },
      "text/plain": [
       "  0%|          | 0/10 [00:00<?, ?it/s]"
      ]
     },
     "metadata": {},
     "output_type": "display_data"
    },
    {
     "data": {
      "application/vnd.jupyter.widget-view+json": {
       "model_id": "320c5cc4101a4974b63c44c934e5b5e3",
       "version_major": 2,
       "version_minor": 0
      },
      "text/plain": [
       "  0%|          | 0/10 [00:00<?, ?it/s]"
      ]
     },
     "metadata": {},
     "output_type": "display_data"
    },
    {
     "data": {
      "application/vnd.jupyter.widget-view+json": {
       "model_id": "e09fd3ce0b9a461f94597082b508bc1e",
       "version_major": 2,
       "version_minor": 0
      },
      "text/plain": [
       "  0%|          | 0/10 [00:00<?, ?it/s]"
      ]
     },
     "metadata": {},
     "output_type": "display_data"
    }
   ],
   "source": [
    "trad_logger = []\n",
    "trad_stderrs = []\n",
    "thunder_logger = []\n",
    "thunder_stderrs = []\n",
    "md_scanner = [1,2,3,4,5,6,7,8]\n",
    "for MD in md_scanner:\n",
    "\n",
    "    trad_method = []\n",
    "    thunder_method = []\n",
    "\n",
    "    for i in tqdm(range(10)):\n",
    "        X_train, X_eval, X_test, y_train, y_eval, y_test = generate_data(10_000)\n",
    "\n",
    "        xgb_regressor = XGBRegressor(max_depth=MD, learning_rate=0.1, n_estimators=20_000, early_stopping_rounds=10, \n",
    "                                objective='reg:squarederror', eval_metric='rmse', reg_lambda=1.0,\n",
    "                                min_child_weight=1, base_score=0.5)\n",
    "\n",
    "        xgb_regressor.fit(X_train, y_train, eval_set=[(X_eval, y_eval)], verbose=False)\n",
    "\n",
    "        #some BS here to assure the same parameters are used\n",
    "        og_params = xgb_regressor.get_params()\n",
    "\n",
    "        learner_params = {}\n",
    "\n",
    "        for attribute in [\"objective\", \"max_depth\", \"n_estimators\", \"early_stopping_rounds\", \"learning_rate\", \n",
    "                         \"base_score\", \"reg_lambda\", \"min_child_weight\"]:\n",
    "            learner_params[attribute] = og_params[attribute]\n",
    "\n",
    "\n",
    "        txgb_regressor = txgb.TinyXGBRegressor(**learner_params)\n",
    "        txgb_regressor.fit(X_train, y_train, eval_set=(X_test, y_test), verbose=False)\n",
    "        \n",
    "        og_preds = xgb_regressor.predict(X_test)\n",
    "        trad_method.append([r_2(og_preds[:, 0], y_test[:, 0]),\n",
    "                            r_2(og_preds[:, 1], y_test[:, 1])])\n",
    "\n",
    "\n",
    "        txgb_preds = txgb_regressor.predict(X_test)\n",
    "        thunder_method.append([r_2(txgb_preds[:, 0], y_test[:, 0]), \n",
    "                              r_2(txgb_preds[:, 1], y_test[:, 1])])\n",
    "        \n",
    "    trad_logger.append(np.mean(trad_method))\n",
    "    thunder_logger.append(np.mean(thunder_method))\n",
    "    trad_stderrs.append(np.std(trad_method)/np.sqrt(len(trad_method)-1))\n",
    "    thunder_stderrs.append(np.std(thunder_method)/np.sqrt(len(thunder_method)-1))\n",
    "        \n",
    "        \n",
    "\n",
    "        \n",
    "        "
   ]
  },
  {
   "cell_type": "code",
   "execution_count": 56,
   "metadata": {},
   "outputs": [
    {
     "data": {
      "image/png": "[encoded data removed]",
      "text/plain": [
       "<Figure size 640x480 with 1 Axes>"
      ]
     },
     "metadata": {},
     "output_type": "display_data"
    }
   ],
   "source": [
    "plt.figure()\n",
    "plt.plot(md_scanner, thunder_logger, marker='*', label='Christian')\n",
    "plt.plot(md_scanner, trad_logger, marker='*', label='Tianqi')\n",
    "plt.legend()\n",
    "plt.xlabel(\"Max Depth\")\n",
    "plt.ylabel(\"Test R^2\")\n",
    "plt.show()"
   ]
  },
  {
   "cell_type": "code",
   "execution_count": 58,
   "metadata": {},
   "outputs": [
    {
     "data": {
      "image/png": "[encoded data removed]",
      "text/plain": [
       "<Figure size 640x480 with 1 Axes>"
      ]
     },
     "metadata": {},
     "output_type": "display_data"
    }
   ],
   "source": [
    "plt.figure()\n",
    "plt.plot(md_scanner, np.array(thunder_logger) - np.array(trad_logger),\n",
    "             marker='*', label='(Christian Donnerer - Tianqi Chen)')\n",
    "plt.plot(md_scanner, [0]*len(md_scanner), linestyle='--', color='red')\n",
    "plt.legend()\n",
    "plt.xlabel('Max Depth')\n",
    "plt.ylabel(\"Average ∆ Test R^2\")\n",
    "plt.show()"
   ]
  },
  {
   "cell_type": "code",
   "execution_count": 52,
   "metadata": {},
   "outputs": [
    {
     "data": {
      "text/plain": [
       "[0.7524656221333967,\n",
       " 0.751974695286611,\n",
       " 0.7508780598913354,\n",
       " 0.7505704072521705,\n",
       " 0.7483031985953768]"
      ]
     },
     "execution_count": 52,
     "metadata": {},
     "output_type": "execute_result"
    }
   ],
   "source": [
    "thunder_logger"
   ]
  },
  {
   "cell_type": "code",
   "execution_count": null,
   "metadata": {},
   "outputs": [],
   "source": []
  }
 ],
 "metadata": {
  "kernelspec": {
   "display_name": "Python [conda env:Python3] *",
   "language": "python",
   "name": "conda-env-Python3-py"
  },
  "language_info": {
   "codemirror_mode": {
    "name": "ipython",
    "version": 3
   },
   "file_extension": ".py",
   "mimetype": "text/x-python",
   "name": "python",
   "nbconvert_exporter": "python",
   "pygments_lexer": "ipython3",
   "version": "3.9.15"
  }
 },
 "nbformat": 4,
 "nbformat_minor": 2
}
